{
 "cells": [
  {
   "cell_type": "markdown",
   "id": "2774920f",
   "metadata": {},
   "source": [
    "## Importar bibliotecas a usar"
   ]
  },
  {
   "cell_type": "code",
   "execution_count": null,
   "id": "26c9f3b3",
   "metadata": {},
   "outputs": [],
   "source": [
    "import pandas as pd\n",
    "import numpy as np\n",
    "import datetime as dt"
   ]
  },
  {
   "cell_type": "markdown",
   "id": "ac3756b2",
   "metadata": {},
   "source": [
    "## Lectura del archivo \"dataset.csv\""
   ]
  },
  {
   "cell_type": "code",
   "execution_count": null,
   "id": "664f0c7b",
   "metadata": {},
   "outputs": [],
   "source": [
    "df = pd.read_csv(\"./dataset.csv\", sep=\";\", dtype=str)\n",
    "df.head()"
   ]
  },
  {
   "cell_type": "markdown",
   "id": "64e6c8e8",
   "metadata": {},
   "source": [
    "## Limpieza de datos"
   ]
  },
  {
   "cell_type": "code",
   "execution_count": null,
   "id": "e19e237b",
   "metadata": {},
   "outputs": [],
   "source": [
    "df = df.fillna(\"\")\n",
    "\n",
    "df[\"ItemID\"] = pd.to_numeric(df['ItemID'].str.strip()).astype(\"Int64\")\n",
    "df[\"Fecha Creacion\"] = pd.to_datetime(df[\"Fecha Creacion\"], format='%Y-%m-%d')\n",
    "df[\"Fecha Termino\"] = pd.to_datetime(df[\"Fecha Termino\"], format='%d-%m-%y')\n",
    "df[\"Fecha Cierre\"] = pd.to_datetime(df[\"Fecha Cierre\"], format='%d/%m/%Y')\n",
    "df[\"Prioridad\"] = df[\"Prioridad\"].astype(int)"
   ]
  },
  {
   "cell_type": "markdown",
   "id": "8a34e32c",
   "metadata": {},
   "source": [
    "## Transformación de datos"
   ]
  },
  {
   "cell_type": "code",
   "execution_count": null,
   "id": "77187e43",
   "metadata": {},
   "outputs": [],
   "source": [
    "df[\"Fecha Cierre\"] = np.where(df[\"Fecha Termino\"] <= df[\"Fecha Cierre\"], df[\"Fecha Termino\"], df[\"Fecha Cierre\"])\n",
    "\n",
    "df[['Agencia', 'AgenciaID']] = df['Ubicacion'].str.split('-', expand=True)\n",
    "df[\"AgenciaID\"] = df[\"AgenciaID\"].str.strip().astype(int)\n",
    "df[\"Agencia\"] = df[\"Agencia\"].str.strip()"
   ]
  },
  {
   "cell_type": "code",
   "execution_count": null,
   "id": "0a9a913c",
   "metadata": {},
   "outputs": [],
   "source": [
    "data = df[[\"Numero Ticket\", \"AgenciaID\", \"Agencia\", \"Service Desk\", \"Fecha Creacion\", \"Fecha Cierre\", \"Estado\", \"ItemID\", \"Item\"]]\n",
    "data.columns = [\"numero_ticket\", \"agencia_id\", \"agencia\", \"service_desk\", \"fecha_creacion\", \"fecha_cierre\", \"estad\", \"item_id\", \"item\"]"
   ]
  }
 ],
 "metadata": {
  "kernelspec": {
   "display_name": "env",
   "language": "python",
   "name": "python3"
  },
  "language_info": {
   "codemirror_mode": {
    "name": "ipython",
    "version": 3
   },
   "file_extension": ".py",
   "mimetype": "text/x-python",
   "name": "python",
   "nbconvert_exporter": "python",
   "pygments_lexer": "ipython3",
   "version": "3.13.6"
  }
 },
 "nbformat": 4,
 "nbformat_minor": 5
}
